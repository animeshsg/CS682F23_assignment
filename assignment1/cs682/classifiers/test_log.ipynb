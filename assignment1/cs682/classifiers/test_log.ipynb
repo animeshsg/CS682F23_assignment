{
 "cells": [
  {
   "cell_type": "code",
   "execution_count": 1,
   "id": "1fe09253",
   "metadata": {},
   "outputs": [],
   "source": [
    "relu=lambda x:np.max(0,x)"
   ]
  },
  {
   "cell_type": "code",
   "execution_count": 2,
   "id": "37399f29",
   "metadata": {},
   "outputs": [],
   "source": [
    "import numpy as np"
   ]
  },
  {
   "cell_type": "code",
   "execution_count": 3,
   "id": "b32c23f3",
   "metadata": {},
   "outputs": [],
   "source": [
    "x=np.array([[1,2,3],[1,2,3]])\n",
    "y=np.array([[9,1,2],[2,3,1]])"
   ]
  },
  {
   "cell_type": "code",
   "execution_count": 4,
   "id": "16b7fa4e",
   "metadata": {},
   "outputs": [],
   "source": [
    "relu(x)"
   ]
  },
  {
   "cell_type": "code",
   "execution_count": 5,
   "id": "cbdd135e",
   "metadata": {},
   "outputs": [],
   "source": [
    "relu=lambda x:np.maximum(0,x)"
   ]
  },
  {
   "cell_type": "code",
   "execution_count": 6,
   "id": "2282d199",
   "metadata": {},
   "outputs": [],
   "source": [
    "relu(x)"
   ]
  },
  {
   "cell_type": "code",
   "execution_count": 7,
   "id": "eb9c55f6",
   "metadata": {},
   "outputs": [],
   "source": [
    "z=np.array([8,9,7])"
   ]
  },
  {
   "cell_type": "code",
   "execution_count": 8,
   "id": "e5ab411c",
   "metadata": {},
   "outputs": [],
   "source": [
    "x+z"
   ]
  },
  {
   "cell_type": "code",
   "execution_count": 9,
   "id": "2927e093",
   "metadata": {},
   "outputs": [],
   "source": [
    "print(l>0)"
   ]
  },
  {
   "cell_type": "code",
   "execution_count": 10,
   "id": "7e8b1e3c",
   "metadata": {},
   "outputs": [],
   "source": [
    "l=[-1,2,3,-2]"
   ]
  },
  {
   "cell_type": "code",
   "execution_count": 11,
   "id": "3258c45f",
   "metadata": {},
   "outputs": [],
   "source": [
    "print(l>0)"
   ]
  },
  {
   "cell_type": "code",
   "execution_count": 12,
   "id": "9382f8ce",
   "metadata": {},
   "outputs": [],
   "source": [
    "print(l[l>0])"
   ]
  },
  {
   "cell_type": "code",
   "execution_count": 13,
   "id": "78942178",
   "metadata": {},
   "outputs": [],
   "source": [
    "print(l[l>=0])"
   ]
  },
  {
   "cell_type": "code",
   "execution_count": 14,
   "id": "a275aa0b",
   "metadata": {},
   "outputs": [],
   "source": [
    "l[l<=0]=0"
   ]
  },
  {
   "cell_type": "code",
   "execution_count": 15,
   "id": "32f430cc",
   "metadata": {},
   "outputs": [],
   "source": [
    "l=np.array([-1,2,3,-2])"
   ]
  },
  {
   "cell_type": "code",
   "execution_count": 16,
   "id": "7b7ad36b",
   "metadata": {},
   "outputs": [],
   "source": [
    "l[l<=0]=0"
   ]
  },
  {
   "cell_type": "code",
   "execution_count": 17,
   "id": "39444172",
   "metadata": {},
   "outputs": [],
   "source": [
    "print(l[l>0])"
   ]
  },
  {
   "cell_type": "code",
   "execution_count": 18,
   "id": "ac0b42a7",
   "metadata": {},
   "outputs": [],
   "source": [
    "print(l[l<=0])"
   ]
  },
  {
   "cell_type": "code",
   "execution_count": 19,
   "id": "22e6b0c4",
   "metadata": {},
   "outputs": [],
   "source": [
    "%notebook test_log.ipynb"
   ]
  },
  {
   "cell_type": "code",
   "execution_count": 20,
   "id": "c1adbd67",
   "metadata": {},
   "outputs": [],
   "source": [
    "!pip install nbformat"
   ]
  }
 ],
 "metadata": {},
 "nbformat": 4,
 "nbformat_minor": 5
}
